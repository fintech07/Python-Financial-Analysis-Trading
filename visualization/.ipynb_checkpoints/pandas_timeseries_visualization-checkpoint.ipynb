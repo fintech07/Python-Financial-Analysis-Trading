{
 "cells": [
  {
   "cell_type": "code",
   "execution_count": 1,
   "metadata": {},
   "outputs": [],
   "source": [
    "import pandas as pd\n",
    "import matplotlib.pyplot as plt\n",
    "%matplotlib notebook"
   ]
  },
  {
   "cell_type": "code",
   "execution_count": 2,
   "metadata": {},
   "outputs": [],
   "source": [
    "silver_rate = pd.read_csv('silver_rates.csv', index_col = 'Date')"
   ]
  },
  {
   "cell_type": "code",
   "execution_count": 3,
   "metadata": {},
   "outputs": [
    {
     "data": {
      "text/html": [
       "<div>\n",
       "<style scoped>\n",
       "    .dataframe tbody tr th:only-of-type {\n",
       "        vertical-align: middle;\n",
       "    }\n",
       "\n",
       "    .dataframe tbody tr th {\n",
       "        vertical-align: top;\n",
       "    }\n",
       "\n",
       "    .dataframe thead th {\n",
       "        text-align: right;\n",
       "    }\n",
       "</style>\n",
       "<table border=\"1\" class=\"dataframe\">\n",
       "  <thead>\n",
       "    <tr style=\"text-align: right;\">\n",
       "      <th></th>\n",
       "      <th>dAsk_open</th>\n",
       "      <th>dAsk_high</th>\n",
       "      <th>dAsk_low</th>\n",
       "      <th>dAsk_close</th>\n",
       "      <th>dBid_open</th>\n",
       "      <th>dBid_high</th>\n",
       "      <th>dBid_low</th>\n",
       "      <th>dBid_close</th>\n",
       "    </tr>\n",
       "    <tr>\n",
       "      <th>Date</th>\n",
       "      <th></th>\n",
       "      <th></th>\n",
       "      <th></th>\n",
       "      <th></th>\n",
       "      <th></th>\n",
       "      <th></th>\n",
       "      <th></th>\n",
       "      <th></th>\n",
       "    </tr>\n",
       "  </thead>\n",
       "  <tbody>\n",
       "    <tr>\n",
       "      <th>08/20/2020 14:53:01</th>\n",
       "      <td>31.250120</td>\n",
       "      <td>34.059719</td>\n",
       "      <td>31.250120</td>\n",
       "      <td>33.092663</td>\n",
       "      <td>24.058703</td>\n",
       "      <td>29.033866</td>\n",
       "      <td>23.386813</td>\n",
       "      <td>27.527786</td>\n",
       "    </tr>\n",
       "    <tr>\n",
       "      <th>08/20/2020 14:54:01</th>\n",
       "      <td>33.101373</td>\n",
       "      <td>35.544810</td>\n",
       "      <td>33.101373</td>\n",
       "      <td>33.966106</td>\n",
       "      <td>27.680442</td>\n",
       "      <td>29.661571</td>\n",
       "      <td>25.809777</td>\n",
       "      <td>28.331556</td>\n",
       "    </tr>\n",
       "    <tr>\n",
       "      <th>08/20/2020 14:55:01</th>\n",
       "      <td>33.512670</td>\n",
       "      <td>35.409447</td>\n",
       "      <td>33.512670</td>\n",
       "      <td>32.731117</td>\n",
       "      <td>27.442044</td>\n",
       "      <td>30.040872</td>\n",
       "      <td>25.757473</td>\n",
       "      <td>26.515337</td>\n",
       "    </tr>\n",
       "    <tr>\n",
       "      <th>08/20/2020 14:56:01</th>\n",
       "      <td>32.953497</td>\n",
       "      <td>38.374924</td>\n",
       "      <td>32.953497</td>\n",
       "      <td>36.938822</td>\n",
       "      <td>26.960129</td>\n",
       "      <td>34.502927</td>\n",
       "      <td>26.182525</td>\n",
       "      <td>33.170154</td>\n",
       "    </tr>\n",
       "    <tr>\n",
       "      <th>08/20/2020 14:57:01</th>\n",
       "      <td>35.280327</td>\n",
       "      <td>40.091153</td>\n",
       "      <td>35.280327</td>\n",
       "      <td>38.888639</td>\n",
       "      <td>32.502927</td>\n",
       "      <td>36.118225</td>\n",
       "      <td>30.629955</td>\n",
       "      <td>34.707211</td>\n",
       "    </tr>\n",
       "  </tbody>\n",
       "</table>\n",
       "</div>"
      ],
      "text/plain": [
       "                     dAsk_open  dAsk_high   dAsk_low  dAsk_close  dBid_open  \\\n",
       "Date                                                                          \n",
       "08/20/2020 14:53:01  31.250120  34.059719  31.250120   33.092663  24.058703   \n",
       "08/20/2020 14:54:01  33.101373  35.544810  33.101373   33.966106  27.680442   \n",
       "08/20/2020 14:55:01  33.512670  35.409447  33.512670   32.731117  27.442044   \n",
       "08/20/2020 14:56:01  32.953497  38.374924  32.953497   36.938822  26.960129   \n",
       "08/20/2020 14:57:01  35.280327  40.091153  35.280327   38.888639  32.502927   \n",
       "\n",
       "                     dBid_high   dBid_low  dBid_close  \n",
       "Date                                                   \n",
       "08/20/2020 14:53:01  29.033866  23.386813   27.527786  \n",
       "08/20/2020 14:54:01  29.661571  25.809777   28.331556  \n",
       "08/20/2020 14:55:01  30.040872  25.757473   26.515337  \n",
       "08/20/2020 14:56:01  34.502927  26.182525   33.170154  \n",
       "08/20/2020 14:57:01  36.118225  30.629955   34.707211  "
      ]
     },
     "execution_count": 3,
     "metadata": {},
     "output_type": "execute_result"
    }
   ],
   "source": [
    "silver_rate.head()"
   ]
  },
  {
   "cell_type": "code",
   "execution_count": 7,
   "metadata": {},
   "outputs": [
    {
     "data": {
      "text/plain": [
       "<AxesSubplot:xlabel='Date'>"
      ]
     },
     "execution_count": 7,
     "metadata": {},
     "output_type": "execute_result"
    }
   ],
   "source": [
    "silver_rate['dAsk_close'].plot(figsize=(8, 4), c='red', ls='--')"
   ]
  },
  {
   "cell_type": "code",
   "execution_count": 5,
   "metadata": {},
   "outputs": [],
   "source": [
    "idx = silver_rate.index"
   ]
  },
  {
   "cell_type": "code",
   "execution_count": 6,
   "metadata": {},
   "outputs": [
    {
     "data": {
      "text/plain": [
       "Index(['08/20/2020 14:53:01', '08/20/2020 14:54:01', '08/20/2020 14:55:01',\n",
       "       '08/20/2020 14:56:01', '08/20/2020 14:57:01', '08/20/2020 14:58:01',\n",
       "       '08/20/2020 14:59:01', '08/20/2020 15:00:01', '08/20/2020 15:01:01',\n",
       "       '08/20/2020 15:02:01',\n",
       "       ...\n",
       "       '09/30/2020 15:20:45', '09/30/2020 15:21:45', '09/30/2020 15:22:45',\n",
       "       '09/30/2020 15:23:45', '09/30/2020 15:24:45', '09/30/2020 15:25:45',\n",
       "       '09/30/2020 15:26:45', '09/30/2020 15:27:45', '09/30/2020 15:28:45',\n",
       "       '09/30/2020 15:29:45'],\n",
       "      dtype='object', name='Date', length=22077)"
      ]
     },
     "execution_count": 6,
     "metadata": {},
     "output_type": "execute_result"
    }
   ],
   "source": [
    "idx"
   ]
  },
  {
   "cell_type": "code",
   "execution_count": 35,
   "metadata": {},
   "outputs": [],
   "source": [
    "idx = silver_rate.loc['08/20/2020 14:53:01':'08/20/2020 15:02:01'].index"
   ]
  },
  {
   "cell_type": "code",
   "execution_count": 36,
   "metadata": {},
   "outputs": [],
   "source": [
    "rates = silver_rate.loc['08/20/2020 14:53:01':'08/20/2020 15:02:01']['dBid_close']"
   ]
  },
  {
   "cell_type": "code",
   "execution_count": 37,
   "metadata": {},
   "outputs": [
    {
     "name": "stderr",
     "output_type": "stream",
     "text": [
      "c:\\users\\crazy\\appdata\\local\\programs\\python\\python38-32\\lib\\site-packages\\pandas\\plotting\\_matplotlib\\core.py:1235: UserWarning: FixedFormatter should only be used together with FixedLocator\n",
      "  ax.set_xticklabels(xticklabels)\n"
     ]
    },
    {
     "data": {
      "text/plain": [
       "<AxesSubplot:xlabel='Date'>"
      ]
     },
     "execution_count": 37,
     "metadata": {},
     "output_type": "execute_result"
    },
    {
     "data": {
      "image/png": "[encoded data removed]",
      "text/plain": [
       "<Figure size 432x288 with 1 Axes>"
      ]
     },
     "metadata": {
      "needs_background": "light"
     },
     "output_type": "display_data"
    }
   ],
   "source": [
    "rates.plot()"
   ]
  },
  {
   "cell_type": "code",
   "execution_count": 44,
   "metadata": {},
   "outputs": [
    {
     "data": {
      "image/png": "[encoded data removed]",
      "text/plain": [
       "<Figure size 432x288 with 1 Axes>"
      ]
     },
     "metadata": {
      "needs_background": "light"
     },
     "output_type": "display_data"
    }
   ],
   "source": [
    "fig, ax = plt.subplots()\n",
    "ax.plot_date(idx, rates, '-')\n",
    "\n",
    "ax.xaxis.grid(True)\n",
    "ax.yaxis.grid(True)\n",
    "\n",
    "fig.autofmt_xdate()\n",
    "plt.tight_layout()"
   ]
  },
  {
   "cell_type": "code",
   "execution_count": null,
   "metadata": {},
   "outputs": [],
   "source": [
    "\n"
   ]
  }
 ],
 "metadata": {
  "kernelspec": {
   "display_name": "Python 3",
   "language": "python",
   "name": "python3"
  },
  "language_info": {
   "codemirror_mode": {
    "name": "ipython",
    "version": 3
   },
   "file_extension": ".py",
   "mimetype": "text/x-python",
   "name": "python",
   "nbconvert_exporter": "python",
   "pygments_lexer": "ipython3",
   "version": "3.8.5"
  }
 },
 "nbformat": 4,
 "nbformat_minor": 4
}
